{
 "cells": [
  {
   "cell_type": "code",
   "execution_count": 3,
   "metadata": {
    "collapsed": false
   },
   "outputs": [],
   "source": [
    "import numpy as np \n",
    "import sys \n",
    "import matplotlib.pyplot as plt\n",
    "import time\n",
    "import scipy.stats as st\n",
    "import scipy.cluster.vq as cvq\n",
    "import multiprocessing as mp\n",
    "#import image_tools as it\n",
    "from scipy.ndimage import imread\n",
    "\n",
    "\n",
    "import numpy.ma as ma\n",
    "import scipy.stats as st\n",
    "import scipy.signal as si\n",
    "from astropy.io import fits\n",
    "from astropy.table import Table\n",
    "import scipy.ndimage.morphology as morph\n",
    "from matplotlib.backends.backend_pdf import PdfPages\n",
    "%matplotlib inline\n",
    "%reload_ext autoreload\n",
    "\n",
    "\n"
   ]
  },
  {
   "cell_type": "code",
   "execution_count": 4,
   "metadata": {
    "collapsed": false
   },
   "outputs": [],
   "source": [
    "sys.path.insert(0,'./libext/MPDAF')\n",
    "import mpdaf\n",
    "\n",
    "from mpdaf.obj import WCS\n",
    "from mpdaf.obj import WaveCoord\n",
    "from mpdaf.obj import Image\n",
    "from mpdaf.obj import Spectrum\n",
    "from mpdaf.obj import Cube\n",
    "\n",
    "\n",
    "from mpdaf.sdetect import Source, SourceList\n",
    "from mpdaf.sdetect import Catalog"
   ]
  },
  {
   "cell_type": "code",
   "execution_count": 5,
   "metadata": {
    "collapsed": true
   },
   "outputs": [],
   "source": [
    "# Version information\n",
    "version = 0.1\n",
    "# source dir\n",
    "nom_dossier='./data/Lien vers lya_udf10/'"
   ]
  },
  {
   "cell_type": "code",
   "execution_count": null,
   "metadata": {
    "collapsed": true
   },
   "outputs": [],
   "source": [
    " "
   ]
  },
  {
   "cell_type": "code",
   "execution_count": 6,
   "metadata": {
    "collapsed": false
   },
   "outputs": [
    {
     "name": "stderr",
     "output_type": "stream",
     "text": [
      "WARNING: W50: None:7:3: W50: Invalid unit string 'unitless' [astropy.io.votable.exceptions]\n",
      "WARNING:astropy:W50: None:7:3: W50: Invalid unit string 'unitless'\n",
      "WARNING: W50: None:246:3: W50: Invalid unit string 'unitless' [astropy.io.votable.exceptions]\n",
      "WARNING:astropy:W50: None:246:3: W50: Invalid unit string 'unitless'\n",
      "WARNING: W50: None:251:3: W50: Invalid unit string 'unitless' [astropy.io.votable.exceptions]\n",
      "WARNING:astropy:W50: None:251:3: W50: Invalid unit string 'unitless'\n",
      "WARNING: W50: None:256:3: W50: Invalid unit string 'unitless' [astropy.io.votable.exceptions]\n",
      "WARNING:astropy:W50: None:256:3: W50: Invalid unit string 'unitless'\n",
      "WARNING: W50: None:261:3: W50: Invalid unit string 'unitless' [astropy.io.votable.exceptions]\n",
      "WARNING:astropy:W50: None:261:3: W50: Invalid unit string 'unitless'\n",
      "WARNING: W50: None:266:3: W50: Invalid unit string 'unitless' [astropy.io.votable.exceptions]\n",
      "WARNING:astropy:W50: None:266:3: W50: Invalid unit string 'unitless'\n",
      "WARNING: W50: None:271:3: W50: Invalid unit string 'unitless' [astropy.io.votable.exceptions]\n",
      "WARNING:astropy:W50: None:271:3: W50: Invalid unit string 'unitless'\n",
      "WARNING: W50: None:276:3: W50: Invalid unit string 'unitless' [astropy.io.votable.exceptions]\n",
      "WARNING:astropy:W50: None:276:3: W50: Invalid unit string 'unitless'\n",
      "WARNING: W50: None:281:3: W50: Invalid unit string 'unitless' [astropy.io.votable.exceptions]\n",
      "WARNING:astropy:W50: None:281:3: W50: Invalid unit string 'unitless'\n",
      "WARNING: W50: None:286:3: W50: Invalid unit string 'unitless' (suppressing further warnings of this type...) [astropy.io.votable.exceptions]\n",
      "WARNING:astropy:W50: None:286:3: W50: Invalid unit string 'unitless' (suppressing further warnings of this type...)\n",
      "WARNING: W31: None:756:10: W31: NaN given in an integral field without a specified null value [astropy.io.votable.exceptions]\n",
      "WARNING:astropy:W31: None:756:10: W31: NaN given in an integral field without a specified null value\n",
      "WARNING: W31: None:764:10: W31: NaN given in an integral field without a specified null value [astropy.io.votable.exceptions]\n",
      "WARNING:astropy:W31: None:764:10: W31: NaN given in an integral field without a specified null value\n",
      "WARNING: W31: None:772:10: W31: NaN given in an integral field without a specified null value [astropy.io.votable.exceptions]\n",
      "WARNING:astropy:W31: None:772:10: W31: NaN given in an integral field without a specified null value\n",
      "WARNING: W31: None:796:10: W31: NaN given in an integral field without a specified null value [astropy.io.votable.exceptions]\n",
      "WARNING:astropy:W31: None:796:10: W31: NaN given in an integral field without a specified null value\n",
      "WARNING: W31: None:820:10: W31: NaN given in an integral field without a specified null value [astropy.io.votable.exceptions]\n",
      "WARNING:astropy:W31: None:820:10: W31: NaN given in an integral field without a specified null value\n",
      "WARNING: W31: None:828:10: W31: NaN given in an integral field without a specified null value [astropy.io.votable.exceptions]\n",
      "WARNING:astropy:W31: None:828:10: W31: NaN given in an integral field without a specified null value\n",
      "WARNING: W31: None:836:10: W31: NaN given in an integral field without a specified null value [astropy.io.votable.exceptions]\n",
      "WARNING:astropy:W31: None:836:10: W31: NaN given in an integral field without a specified null value\n",
      "WARNING: W31: None:852:10: W31: NaN given in an integral field without a specified null value [astropy.io.votable.exceptions]\n",
      "WARNING:astropy:W31: None:852:10: W31: NaN given in an integral field without a specified null value\n",
      "WARNING: W31: None:860:10: W31: NaN given in an integral field without a specified null value [astropy.io.votable.exceptions]\n",
      "WARNING:astropy:W31: None:860:10: W31: NaN given in an integral field without a specified null value\n",
      "WARNING: W31: None:900:10: W31: NaN given in an integral field without a specified null value (suppressing further warnings of this type...) [astropy.io.votable.exceptions]\n",
      "WARNING:astropy:W31: None:900:10: W31: NaN given in an integral field without a specified null value (suppressing further warnings of this type...)\n",
      "/home/miv/courbot/anaconda/lib/python2.7/site-packages/astropy/table/column.py:1095: MaskedArrayFutureWarning: setting an item on a masked array which has a shared mask will not copy the mask and also change the original mask array in the future.\n",
      "Check the NumPy 1.11 release notes for more information.\n",
      "  ma.MaskedArray.__setitem__(self, index, value)\n"
     ]
    }
   ],
   "source": [
    "\n",
    "\n",
    "cat = Catalog.read('../data/udf10_c031_e026_withz.vot')\n"
   ]
  },
  {
   "cell_type": "code",
   "execution_count": 7,
   "metadata": {
    "collapsed": false
   },
   "outputs": [],
   "source": [
    "cube = Cube('../data/DATACUBE_UDF-10.fits')\n",
    "\n",
    "#cat_fits = fits.open('./data/Catalog_HDFS_v1p0.fits',memmap=True)"
   ]
  },
  {
   "cell_type": "code",
   "execution_count": null,
   "metadata": {
    "collapsed": false
   },
   "outputs": [],
   "source": [
    "med = np.median(cube.data,axis=0)\n"
   ]
  },
  {
   "cell_type": "code",
   "execution_count": null,
   "metadata": {
    "collapsed": false
   },
   "outputs": [],
   "source": [
    "plt.figure(figsize=(10,10))\n",
    "plt.imshow(np.log(1+med), interpolation = 'nearest', origin='lower', cmap=plt.cm.coolwarm,vmin=0,)\n",
    "plt.axis('off')\n",
    "plt.tight_layout()"
   ]
  },
  {
   "cell_type": "code",
   "execution_count": null,
   "metadata": {
    "collapsed": true
   },
   "outputs": [],
   "source": []
  },
  {
   "cell_type": "code",
   "execution_count": null,
   "metadata": {
    "collapsed": true
   },
   "outputs": [],
   "source": [
    "lambda_0 = 4750    # see Bacon et al, 2015\n",
    "lambda_lya = 1216\n",
    "pas_spectral = 1.25 # Angstrom / spectral band\n",
    "\n",
    "\n",
    "\n",
    "\n",
    "#liste_obj=(11724,149,153,180,184,204,214,252,364,400,547,559,579,675,797)\n",
    "liste_obj = (78,149,153,157,183,208,214,237,547,619,802,828,6311,6312,6290,6295)"
   ]
  },
  {
   "cell_type": "code",
   "execution_count": null,
   "metadata": {
    "collapsed": false,
    "scrolled": false
   },
   "outputs": [],
   "source": [
    "from astropy.table import Table\n",
    "i = 0\n",
    "nb_li=6\n",
    "W = 20*1.25\n",
    "plt.figure(figsize=(3*5,nb_li*5))\n",
    "for num_obj in liste_obj:#(208,):\n",
    "\n",
    "    # Ici : modifier les largeurs S des sous-cubes\n",
    "    \n",
    "    \n",
    "    num_cat = np.where(cat['ID']==num_obj)[0][0]\n",
    "    ligne_cat = cat[num_cat]\n",
    "    \n",
    "    \n",
    "    if num_obj in (149,828):\n",
    "        S = 80\n",
    "    elif num_obj in (6295,237,183,619):\n",
    "        S = 60\n",
    "    elif num_obj in (153,78,208):\n",
    "        S=100\n",
    "    elif num_obj in (157,208):\n",
    "        S=120\n",
    "    else:\n",
    "        S = 50\n",
    "        \n",
    "\n",
    "    \n",
    "    lbda_reel = (1+ligne_cat['Z_MUSE'])*1216\n",
    "    if num_obj==208:\n",
    "        W = 40.*1.25\n",
    "    elif num_obj in (547,6295,) :\n",
    "        W = 12*1.25\n",
    "\n",
    "    elif num_obj in (6311,6312,802):\n",
    "        W = 6*1.25\n",
    "    elif num_obj==802:\n",
    "        W = 6.*1.25\n",
    "    else:\n",
    "        W = 20*1.25\n",
    "    \n",
    "    if num_obj==6311:\n",
    "        deb = lbda_reel-W/2.-5*1.25\n",
    "        fin = lbda_reel+W/2.-5*1.25\n",
    "    elif num_obj==6312:\n",
    "        deb = lbda_reel-W/2.+2*1.25\n",
    "        fin = lbda_reel+W/2.+2*1.25     \n",
    "\n",
    "        \n",
    "    elif num_obj==802:\n",
    "        deb = lbda_reel-W/2.-3.5*1.25\n",
    "        fin = lbda_reel+W/2.-3.5*1.25\n",
    "    else: \n",
    "        deb = lbda_reel-W/2.\n",
    "        fin = lbda_reel+W/2.\n",
    "    \n",
    "    sub_cube_tight = cube.subcube((ligne_cat['DEC'],ligne_cat['RA']),S*0.2,lbda=(deb,fin))#,unit_wave='pixel')\n",
    "    \n",
    "    sub_cube_large = cube.subcube((ligne_cat['DEC'],ligne_cat['RA']),S*0.2,lbda=(deb-50,fin+50))\n",
    "    im_med = sub_cube_large.median(axis=0)\n",
    "    \n",
    "    sct_ms = sub_cube_tight.data.data - im_med.data.data[np.newaxis,:,:]\n",
    "    sub_cube_tight_ms = Cube.new_from_obj(sub_cube_tight,data=sct_ms)\n",
    "    \n",
    "    if num_obj in (208,157): #153,619,828\n",
    "        if num_obj==208:\n",
    "\n",
    "            lmin,lmax = sub_cube_tight.get_range()[0],sub_cube_tight.get_range()[3]\n",
    "            xmin = 20. ;        xmax = 120.\n",
    "            ymin = 10 ;        ymax = 75.\n",
    "\n",
    "\n",
    "        elif num_obj==619:\n",
    "            lmin,lmax = sub_cube_tight.get_range()[0],sub_cube_tight.get_range()[3]\n",
    "            xmin = 5. ;        xmax = 75.\n",
    "            ymin = 5 ;        ymax = 75.\n",
    "\n",
    "        elif num_obj==157:\n",
    "            lmin,lmax = sub_cube_tight.get_range()[0],sub_cube_tight.get_range()[3]\n",
    "            xmin = 20. ;        xmax = 100.\n",
    "            ymin = 30. ;        ymax = 110.\n",
    "\n",
    "\n",
    "        elif num_obj==828 :\n",
    "            lmin,lmax = sub_cube_tight.get_range()[0],sub_cube_tight.get_range()[3]\n",
    "            xmin = 10. ;        xmax = 70.\n",
    "            ymin = 10 ;        ymax = 70.\n",
    "            \n",
    "\n",
    "\n",
    "\n",
    "        coord = [lmin,ymin,xmin,lmax,ymax,xmax]\n",
    "        sub_cube_tight = sub_cube_tight.truncate(coord,unit_wcs=None)\n",
    "        sub_cube_tight_ms = sub_cube_tight_ms.truncate(coord,unit_wcs=None)\n",
    "\n",
    "    ax = plt.subplot(nb_li,3,i+1)\n",
    "    im = sub_cube_tight.sum(axis=0)\n",
    "    im_np = im.data\n",
    "    plt.imshow(im_np,origin='lower',cmap=plt.cm.coolwarm,interpolation='nearest')\n",
    "    #im.plot(plt.cm.coolwarm)\n",
    "    plt.title('ID #'+str(ligne_cat['ID']))\n",
    "    #ax.set\n",
    "    i+=1\n",
    "    \n",
    "    \n",
    "    tabz = Table() ; cubes = {};\n",
    "    tabz['z'] = [ligne_cat['Z_MUSE']]\n",
    "    cubes['cube'] = sub_cube_tight\n",
    "    cubes['cube_ms'] = sub_cube_tight_ms\n",
    "\n",
    "    src = Source.from_data(ID=ligne_cat['ID'],\n",
    "                          ra = ligne_cat['RA'],\n",
    "                          dec = ligne_cat['DEC'],\n",
    "                          origin = ('lyama','0.1','DATACUBE_UDF-10.fits'),\n",
    "                           z=tabz,\n",
    "                           cubes=cubes,\n",
    "                           mask_invalid=False\n",
    "                           )\n",
    "    src.write('../data/udf10_lya_sources_v0/udf10_'+str(src.id)+'.fits')\n",
    "    \n",
    "    "
   ]
  },
  {
   "cell_type": "code",
   "execution_count": null,
   "metadata": {
    "collapsed": false
   },
   "outputs": [],
   "source": [
    "sub_cube_tight.mean(axis=(1,2)).plot()"
   ]
  },
  {
   "cell_type": "code",
   "execution_count": null,
   "metadata": {
    "collapsed": false
   },
   "outputs": [],
   "source": [
    "#import astropy.units as Unit\n",
    "\n",
    "lmin = sub_cube_tight.get_range()[0]\n",
    "lmax = sub_cube_tight.get_range()[3]\n",
    "\n",
    "xmin = 10.\n",
    "xmax = 80\n",
    "\n",
    "ymin = 10\n",
    "ymax = 55.\n",
    "\n",
    "coord = [lmin,ymin,xmin,lmax,ymax,xmax]\n",
    "\n",
    "scts = sub_cube_tight.truncate(coord,unit_wcs=None)#,mask=False)\n",
    "scts.sum(axis=0).plot()"
   ]
  },
  {
   "cell_type": "code",
   "execution_count": null,
   "metadata": {
    "collapsed": false
   },
   "outputs": [],
   "source": []
  },
  {
   "cell_type": "code",
   "execution_count": null,
   "metadata": {
    "collapsed": false
   },
   "outputs": [],
   "source": [
    "scts"
   ]
  },
  {
   "cell_type": "code",
   "execution_count": null,
   "metadata": {
    "collapsed": true
   },
   "outputs": [],
   "source": []
  }
 ],
 "metadata": {
  "kernelspec": {
   "display_name": "Python 2",
   "language": "python",
   "name": "python2"
  },
  "language_info": {
   "codemirror_mode": {
    "name": "ipython",
    "version": 2
   },
   "file_extension": ".py",
   "mimetype": "text/x-python",
   "name": "python",
   "nbconvert_exporter": "python",
   "pygments_lexer": "ipython2",
   "version": "2.7.12"
  }
 },
 "nbformat": 4,
 "nbformat_minor": 0
}
